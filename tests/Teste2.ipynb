{
 "cells": [
  {
   "cell_type": "markdown",
   "metadata": {},
   "source": [
    "![CC-BY-SA](https://mirrors.creativecommons.org/presskit/buttons/88x31/svg/by-sa.svg)\n",
    "\n",
    "\n",
    "This notebook was created by [Bernardo Freitas Paulo da Costa](http://www.im.ufrj.br/bernardofpc),\n",
    "and is licensed under Creative Commons BY-SA."
   ]
  },
  {
   "cell_type": "markdown",
   "metadata": {},
   "source": [
    "Antes de enviar este Teste, verifique que tudo está funcionando como esperado.\n",
    "Por exemplo, **rode o código inteiro, do zero**.\n",
    "Para isso, vá no menu, escolha _Kernel_, depois _Restart & Run All_.\n",
    "\n",
    "Verifique, também, que você respondeu todas as questões:\n",
    "* as questões de código têm `YOUR CODE HERE` (e você pode apagar o `raise NotImplemented` ao incluir sua resposta)\n",
    "* as questões discursivas têm \"YOUR ANSWER HERE\"."
   ]
  },
  {
   "cell_type": "markdown",
   "metadata": {},
   "source": [
    "---"
   ]
  },
  {
   "cell_type": "markdown",
   "metadata": {},
   "source": [
    "# Teste 2: Mais bisseção\n",
    "\n",
    "Vamos continuar estudando o método de bisseção, agora com garantias de erros absolutos e relativos ao mesmo tempo."
   ]
  },
  {
   "cell_type": "markdown",
   "metadata": {},
   "source": [
    "## Questão 1: uma função auxiliar\n",
    "\n",
    "Quando a bisseção retorna uma \"raiz\", ela dá o ponto médio de um intervalo $[a,b]$, onde temos certeza que há uma raiz de $f$.\n",
    "\n",
    "Escreva uma função `absrel(a,b)` que, dado um intervalo $[a,b]$, retorna o maior erro absoluto e o maior erro relativo que pode ocorrer ao considerar que a raiz é o ponto médio deste intervalo."
   ]
  },
  {
   "cell_type": "code",
   "execution_count": 1,
   "metadata": {
    "deletable": false,
    "editable": false,
    "nbgrader": {
     "cell_type": "code",
     "checksum": "af11609cfd6d11d4a0838619344316c4",
     "grade": false,
     "grade_id": "numpy",
     "locked": true,
     "schema_version": 3,
     "solution": false,
     "task": false
    }
   },
   "outputs": [],
   "source": [
    "import numpy as np\n",
    "from numpy import infty"
   ]
  },
  {
   "cell_type": "code",
   "execution_count": 2,
   "metadata": {
    "deletable": false,
    "nbgrader": {
     "cell_type": "code",
     "checksum": "de37192883de6fa3ca5ad2a7e72cd552",
     "grade": false,
     "grade_id": "absrel_fun",
     "locked": false,
     "schema_version": 3,
     "solution": true
    }
   },
   "outputs": [],
   "source": [
    "def absrel(a,b):\n",
    "    raiz = (a + b) / 2\n",
    "    abserr = max(\n",
    "        abs(raiz - a),\n",
    "        abs(raiz - b)\n",
    "    )\n",
    "    if a < 0 and b > 0:\n",
    "        return abserr, +infty\n",
    "    if a == 0:\n",
    "        relerr = abs(abserr / b)\n",
    "    elif b == 0:\n",
    "        relerr = abs(abserr / a),\n",
    "    else:\n",
    "        relerr = max(\n",
    "            abs(abserr / a),\n",
    "            abs(abserr / b)\n",
    "        )\n",
    "    return abserr, relerr"
   ]
  },
  {
   "cell_type": "code",
   "execution_count": 3,
   "metadata": {},
   "outputs": [
    {
     "data": {
      "text/plain": [
       "(0.5, 0.05)"
      ]
     },
     "execution_count": 3,
     "metadata": {},
     "output_type": "execute_result"
    }
   ],
   "source": [
    "absrel(10,11)"
   ]
  },
  {
   "cell_type": "code",
   "execution_count": 4,
   "metadata": {
    "deletable": false,
    "editable": false,
    "nbgrader": {
     "cell_type": "code",
     "checksum": "b7fef6de668f0fbdc0697eee1624fdbb",
     "grade": true,
     "grade_id": "absrel_test1",
     "locked": true,
     "points": 2,
     "schema_version": 3,
     "solution": false
    }
   },
   "outputs": [],
   "source": [
    "assert absrel(1,2) == (.5, .5)\n",
    "assert absrel(10,11) == (0.5, 0.05)"
   ]
  },
  {
   "cell_type": "code",
   "execution_count": 5,
   "metadata": {
    "deletable": false,
    "editable": false,
    "nbgrader": {
     "cell_type": "code",
     "checksum": "758d6bfe381bb7e8059c678666bc81a6",
     "grade": true,
     "grade_id": "absrel_test2",
     "locked": true,
     "points": 1,
     "schema_version": 3,
     "solution": false
    }
   },
   "outputs": [],
   "source": [
    "assert absrel(-2,1) == (1.5, +infty)"
   ]
  },
  {
   "cell_type": "markdown",
   "metadata": {},
   "source": [
    "Porquê o erro relativo do intervalo $[-2,1]$ é infinito?"
   ]
  },
  {
   "cell_type": "markdown",
   "metadata": {
    "deletable": false,
    "nbgrader": {
     "cell_type": "markdown",
     "checksum": "330067d7f60d452a69e7f90d6935cdf8",
     "grade": true,
     "grade_id": "erro_relativo",
     "locked": false,
     "points": 2,
     "schema_version": 3,
     "solution": true,
     "task": false
    }
   },
   "source": [
    "Dado que queremos que a função retorne o maior erro relativo, temos que quando o intervalo contém $0$, o divisor pode ser um número que tende a zero e, dessa forma, o valor do erro relativo tende a infinito."
   ]
  },
  {
   "cell_type": "markdown",
   "metadata": {},
   "source": [
    "## Questão 2: Outros retornos na bisseção\n",
    "\n",
    "Modifique o método da bisseção para terminar quando o erro absoluto **e** o erro relativo\n",
    "forem menores do que (ou iguais às) tolerâncias dadas em argumento.\n",
    "\n",
    "Retorne uma tripla contendo, nesta ordem:\n",
    "- uma estimativa para a raiz $z$,\n",
    "- uma estimativa para o erro absoluto $e_{abs}$,\n",
    "- uma estimativa para o erro relativo $e_{rel}$."
   ]
  },
  {
   "cell_type": "code",
   "execution_count": 6,
   "metadata": {
    "deletable": false,
    "nbgrader": {
     "cell_type": "code",
     "checksum": "aaa9408b732399070e327394cb2e9a24",
     "grade": false,
     "grade_id": "biss",
     "locked": false,
     "schema_version": 3,
     "solution": true
    }
   },
   "outputs": [],
   "source": [
    "def bissecao(f, a: int, b: int, abstol: float = 1e-10, reltol: float = 1e-10) -> tuple:\n",
    "    \"\"\"\n",
    "    Implementa o método da bisseção. O algoritmo para quando ambos os erros\n",
    "    absoluto e relativo atingem valores menores que a tolerância.\n",
    "\n",
    "    Args:\n",
    "        f: Função que se buscará a raiz.\n",
    "        a (int): Limite inferior do intervalo.\n",
    "        b (int): Limite superior do intervalo.\n",
    "        abstol (float, opcional): Tolerância para o erro absoluto. Por padrão, 1e-10.\n",
    "        reltol (float, opcional): Tolerância para o erro relativo. Por padrão, 1e-10.\n",
    "\n",
    "    Returns:\n",
    "        tuple: Raiz, erro absoluto e erro relativo estimados.\n",
    "    \"\"\"\n",
    "    raiz = (a+b)/2\n",
    "    abserr, relerr = absrel(a, b)\n",
    "    while abserr >= abstol or relerr >= reltol:\n",
    "        if f(a)*f(raiz) < 0:\n",
    "            b = raiz\n",
    "        else:\n",
    "            a = raiz\n",
    "        raiz = (a+b)/2\n",
    "        abserr, relerr = absrel(a, b)\n",
    "    return raiz, abserr, relerr"
   ]
  },
  {
   "cell_type": "markdown",
   "metadata": {},
   "source": [
    "Não se preocupe em obter valores iguais para as cotas superiores dos erros absoluto e relativo.\n",
    "\n",
    "O importante é que estas estimativas sejam **coerentes** com os requisitos do método da bisseção:\n",
    "\n",
    "- o erro absoluto real (ou seja, a diferença entre a raiz certa e a raiz calculada) deve ser menor do que a estimativa do erro absoluto,\n",
    "- o erro relativo real deve ser menor do que a estimativa do erro relativo.\n",
    "\n",
    "Note que é exatamente isso que vai ser testado em seguida!"
   ]
  },
  {
   "cell_type": "code",
   "execution_count": 7,
   "metadata": {},
   "outputs": [
    {
     "data": {
      "text/plain": [
       "(1.5707963267923333, 5.820766091346741e-11, 3.705614784221461e-11)"
      ]
     },
     "execution_count": 7,
     "metadata": {},
     "output_type": "execute_result"
    }
   ],
   "source": [
    "bissecao(np.cos, 1,5)"
   ]
  },
  {
   "cell_type": "code",
   "execution_count": 8,
   "metadata": {
    "deletable": false,
    "editable": false,
    "nbgrader": {
     "cell_type": "code",
     "checksum": "e9299798e2c57ef85b6e360ba2040804",
     "grade": true,
     "grade_id": "biss_test1",
     "locked": true,
     "points": 2,
     "schema_version": 3,
     "solution": false
    }
   },
   "outputs": [],
   "source": [
    "x,err,rel = bissecao(np.sin,1,5)\n",
    "\n",
    "# Testando que o valor retornado está perto da resposta, e satisfaz as próprias estimativas\n",
    "assert abs(x - np.pi)/np.pi < rel\n",
    "assert abs(x - np.pi) < err"
   ]
  },
  {
   "cell_type": "code",
   "execution_count": 9,
   "metadata": {
    "deletable": false,
    "editable": false,
    "nbgrader": {
     "cell_type": "code",
     "checksum": "fc506a89f857bc720c896eb692a9339d",
     "grade": true,
     "grade_id": "biss_test2",
     "locked": true,
     "points": 1,
     "schema_version": 3,
     "solution": false,
     "task": false
    }
   },
   "outputs": [],
   "source": [
    "# Testando que sai pela razão certa\n",
    "assert rel < 1e-10\n",
    "assert err < 1e-10"
   ]
  },
  {
   "cell_type": "code",
   "execution_count": 10,
   "metadata": {
    "deletable": false,
    "editable": false,
    "nbgrader": {
     "cell_type": "code",
     "checksum": "80e00ab4c89efcdae3a77d3287a08c04",
     "grade": false,
     "grade_id": "polyfun",
     "locked": true,
     "schema_version": 3,
     "solution": false,
     "task": false
    }
   },
   "outputs": [],
   "source": [
    "def f(x):\n",
    "    return ((x**2 - 2)**2 - 2)**2 - 2 - x"
   ]
  },
  {
   "cell_type": "code",
   "execution_count": 11,
   "metadata": {
    "deletable": false,
    "editable": false,
    "nbgrader": {
     "cell_type": "code",
     "checksum": "ed933907171ae4afe0ba457bce2b0094",
     "grade": true,
     "grade_id": "biss_test3",
     "locked": true,
     "points": 2,
     "schema_version": 3,
     "solution": false
    }
   },
   "outputs": [],
   "source": [
    "x,err,rel = bissecao(f,1.4,1.6,reltol=1e-12)\n",
    "\n",
    "# Testando que o valor retornado está perto da resposta, e satisfaz as próprias estimativas\n",
    "v = 1.532088886238\n",
    "assert abs(x - v)/v < rel\n",
    "assert abs(x - v) < err"
   ]
  },
  {
   "cell_type": "code",
   "execution_count": 12,
   "metadata": {
    "deletable": false,
    "editable": false,
    "nbgrader": {
     "cell_type": "code",
     "checksum": "a9103c0594f32176c46ac36cdb423d64",
     "grade": true,
     "grade_id": "biss_test4",
     "locked": true,
     "points": 1,
     "schema_version": 3,
     "solution": false,
     "task": false
    }
   },
   "outputs": [],
   "source": [
    "# Testando que sai pela razão certa\n",
    "assert err < 1e-10\n",
    "assert rel < 1e-12"
   ]
  },
  {
   "cell_type": "markdown",
   "metadata": {},
   "source": [
    "## Questão 3: extremidades da bisseção\n",
    "\n",
    "Modifique a sua implementação da bisseção para retornar uma lista com os intervalos considerados,\n",
    "em ordem decrescente."
   ]
  },
  {
   "cell_type": "code",
   "execution_count": 13,
   "metadata": {
    "deletable": false,
    "nbgrader": {
     "cell_type": "code",
     "checksum": "f1864c230d8b4b795b6f24aaa677e130",
     "grade": true,
     "grade_id": "biss_extr",
     "locked": false,
     "points": 1,
     "schema_version": 3,
     "solution": true,
     "task": false
    }
   },
   "outputs": [],
   "source": [
    "def bissecao_extremidades(f, a: int, b: int, abstol: float = 1e-10, reltol: float = 1e-10) -> list:\n",
    "    \"\"\"\n",
    "    Implementa o método da bisseção. O algoritmo para quando ambos os erros\n",
    "    absoluto e relativo atingem valores menores que a tolerância.\n",
    "\n",
    "    Args:\n",
    "        f: Função que se buscará a raiz.\n",
    "        a (int): Limite inferior do intervalo.\n",
    "        b (int): Limite superior do intervalo.\n",
    "        abstol (float, opcional): Tolerância para o erro absoluto. Por padrão, 1e-10.\n",
    "        reltol (float, opcional): Tolerância para o erro relativo. Por padrão, 1e-10.\n",
    "\n",
    "    Returns:\n",
    "        list: Lista de extremidades da bisseção.\n",
    "    \"\"\"\n",
    "    raiz = (a+b)/2\n",
    "    abserr, relerr = absrel(a, b)\n",
    "    extremidades = [(a,b)]\n",
    "    while abserr >= abstol or relerr >= reltol:\n",
    "        if f(a)*f(raiz) < 0:\n",
    "            b = raiz\n",
    "        else:\n",
    "            a = raiz\n",
    "        raiz = (a+b)/2\n",
    "        abserr, relerr = absrel(a, b)\n",
    "        extremidades.append((a,b))\n",
    "    return extremidades"
   ]
  },
  {
   "cell_type": "code",
   "execution_count": 14,
   "metadata": {},
   "outputs": [
    {
     "name": "stdout",
     "output_type": "stream",
     "text": [
      "(1, 5)\n",
      "(3.0, 5)\n",
      "(3.0, 4.0)\n",
      "(3.0, 3.5)\n",
      "(3.0, 3.25)\n"
     ]
    }
   ],
   "source": [
    "# Vendo alguns dos intervalos iniciais\n",
    "l = bissecao_extremidades(np.sin,1,5)\n",
    "for I in l[:5]:\n",
    "    print(I)"
   ]
  },
  {
   "cell_type": "code",
   "execution_count": 15,
   "metadata": {
    "deletable": false,
    "editable": false,
    "nbgrader": {
     "cell_type": "code",
     "checksum": "e20268f1e7c1804ad6f1a76ea35347a2",
     "grade": true,
     "grade_id": "bisse_test1",
     "locked": true,
     "points": 2,
     "schema_version": 3,
     "solution": false
    }
   },
   "outputs": [],
   "source": [
    "lista_intervalos = bissecao_extremidades(np.sin,100,103)\n",
    "\n",
    "Ifinal = lista_intervalos[-1]\n",
    "(af, bf) = Ifinal\n",
    "\n",
    "assert abs(bf - af) <= 2e-10\n",
    "assert 35 <= len(lista_intervalos) <= 40"
   ]
  },
  {
   "cell_type": "code",
   "execution_count": 16,
   "metadata": {
    "deletable": false,
    "editable": false,
    "nbgrader": {
     "cell_type": "code",
     "checksum": "cedb6981d69915891ff18dfe0b29e6af",
     "grade": true,
     "grade_id": "bisse_test2",
     "locked": true,
     "points": 2,
     "schema_version": 3,
     "solution": false,
     "task": false
    }
   },
   "outputs": [],
   "source": [
    "lista_intervalos = bissecao_extremidades(np.sin,100,103, abstol=1e-12, reltol=1e-12)\n",
    "\n",
    "Ifinal = lista_intervalos[-1]\n",
    "(af, bf) = Ifinal\n",
    "\n",
    "assert abs(bf - af) <= 2e-12\n",
    "assert abs(af - 32*np.pi) <= 2e-12\n",
    "assert abs(bf - 32*np.pi) <= 2e-12\n",
    "assert 40 <= len(lista_intervalos) <= 45"
   ]
  },
  {
   "cell_type": "code",
   "execution_count": 17,
   "metadata": {
    "deletable": false,
    "editable": false,
    "nbgrader": {
     "cell_type": "code",
     "checksum": "afd0cd3d32dddd29eeec69f0326ae934",
     "grade": true,
     "grade_id": "bisse_test3",
     "locked": true,
     "points": 2,
     "schema_version": 3,
     "solution": false
    }
   },
   "outputs": [],
   "source": [
    "lista_intervalos = bissecao_extremidades(f,-0.5,0, abstol=1e-8, reltol=1e-12)\n",
    "\n",
    "(af, bf) = lista_intervalos[-1]\n",
    "x = (af+bf)/2\n",
    "\n",
    "v = -0.4450418679126287\n",
    "assert(abs(x - v)/v < 1e-12)\n",
    "assert(abs(x - v) < 1e-8)"
   ]
  },
  {
   "cell_type": "code",
   "execution_count": 18,
   "metadata": {
    "deletable": false,
    "editable": false,
    "nbgrader": {
     "cell_type": "code",
     "checksum": "731af227747fda7e339a92a99e33c208",
     "grade": true,
     "grade_id": "bisse_test4",
     "locked": true,
     "points": 1,
     "schema_version": 3,
     "solution": false,
     "task": false
    }
   },
   "outputs": [],
   "source": [
    "lista_intervalos = bissecao_extremidades(f,-0.5,0, abstol=1e-8, reltol=1e-12)\n",
    "\n",
    "(af, bf) = lista_intervalos[-1]\n",
    "x = (af+bf)/2\n",
    "\n",
    "assert 40 <= len(lista_intervalos) <= 45"
   ]
  },
  {
   "cell_type": "markdown",
   "metadata": {},
   "source": [
    "## Questão 4: Gráficos\n",
    "\n",
    "Faça o gráfico do tamanho dos intervalos, em função do número de iterações,\n",
    "para a bisseção do cosseno entre 0 e 3, com as tolerâncias padrão."
   ]
  },
  {
   "cell_type": "code",
   "execution_count": 19,
   "metadata": {
    "deletable": false,
    "editable": false,
    "nbgrader": {
     "cell_type": "code",
     "checksum": "120e98d5124b13cef9eb56e892832b1b",
     "grade": false,
     "grade_id": "matplotlib",
     "locked": true,
     "schema_version": 3,
     "solution": false,
     "task": false
    }
   },
   "outputs": [],
   "source": [
    "import matplotlib.pyplot as plt"
   ]
  },
  {
   "cell_type": "code",
   "execution_count": 20,
   "metadata": {
    "deletable": false,
    "nbgrader": {
     "cell_type": "code",
     "checksum": "75413f7bd30ca46cb96da4126e9d7273",
     "grade": true,
     "grade_id": "graf1",
     "locked": false,
     "points": 1,
     "schema_version": 3,
     "solution": true,
     "task": false
    }
   },
   "outputs": [
    {
     "data": {
      "image/png": "[encoded data removed]",
      "text/plain": [
       "<Figure size 800x600 with 1 Axes>"
      ]
     },
     "metadata": {},
     "output_type": "display_data"
    }
   ],
   "source": [
    "a, b = 0, 3\n",
    "\n",
    "extremidades = bissecao_extremidades(np.cos, a, b)\n",
    "\n",
    "x = range(len(extremidades))\n",
    "y = [\n",
    "    j - i\n",
    "    for i, j in\n",
    "    extremidades\n",
    "]\n",
    "\n",
    "fig, ax = plt.subplots(figsize=(8,6))\n",
    "ax.plot(x, y, color=\"black\", label=\"Comprimento do intervalo\")\n",
    "ax.set_title(\"\"\"Tamanho dos intervalos em função do número de\n",
    "iterações para a bisseção do cosseno entre 0 e 3\n",
    "(tolerâncias padrão)\"\"\")\n",
    "ax.set_xlabel(\"Número de iterações\")\n",
    "ax.set_ylabel(\"Tamanho dos intervalos\")\n",
    "ax.legend()\n",
    "\n",
    "# Não apague a linha abaixo, ela faz os assert's dos gráficos darem certo\n",
    "ax = plt.gca()"
   ]
  },
  {
   "cell_type": "code",
   "execution_count": 21,
   "metadata": {
    "deletable": false,
    "editable": false,
    "nbgrader": {
     "cell_type": "code",
     "checksum": "67a29c31f43cabb0b66c2d8d491bc240",
     "grade": true,
     "grade_id": "graf_test1",
     "locked": true,
     "points": 1,
     "schema_version": 3,
     "solution": false,
     "task": false
    }
   },
   "outputs": [],
   "source": [
    "assert len(ax.lines) == 1\n",
    "assert len(ax.get_title()) >= 10"
   ]
  },
  {
   "cell_type": "code",
   "execution_count": 22,
   "metadata": {
    "deletable": false,
    "editable": false,
    "nbgrader": {
     "cell_type": "code",
     "checksum": "9e74a0fa8a5f0923ebc7b23cce10640a",
     "grade": true,
     "grade_id": "graf_test2",
     "locked": true,
     "points": 2,
     "schema_version": 3,
     "solution": false,
     "task": false
    }
   },
   "outputs": [],
   "source": [
    "linha = ax.lines[0]\n",
    "assert 5e-11 < min(linha.get_ydata()) < 2e-10\n",
    "assert max(linha.get_ydata()) == 3"
   ]
  },
  {
   "cell_type": "markdown",
   "metadata": {},
   "source": [
    "Agora, faça um gráfico com\n",
    "- o comprimento dos intervalos\n",
    "- a distância entre a extremidade inferior e a raiz correta\n",
    "- a distância entre a extremidade superior e a raiz correta"
   ]
  },
  {
   "cell_type": "code",
   "execution_count": 23,
   "metadata": {
    "deletable": false,
    "nbgrader": {
     "cell_type": "code",
     "checksum": "eb11f327833ec1b9bfd52a239de2ebac",
     "grade": true,
     "grade_id": "graf2",
     "locked": false,
     "points": 1,
     "schema_version": 3,
     "solution": true,
     "task": false
    }
   },
   "outputs": [
    {
     "data": {
      "image/png": "[encoded data removed]",
      "text/plain": [
       "<Figure size 800x600 with 1 Axes>"
      ]
     },
     "metadata": {},
     "output_type": "display_data"
    }
   ],
   "source": [
    "extremidades = bissecao_extremidades(np.cos, a, b)\n",
    "\n",
    "x = range(1, len(extremidades)+1)\n",
    "comprimento = [\n",
    "    j - i\n",
    "    for i, j in\n",
    "    extremidades\n",
    "]\n",
    "\n",
    "raiz_correta = (extremidades[-1][0] - extremidades[-1][1]) / 2\n",
    "\n",
    "distancia_inferior = []\n",
    "distancia_superior = []\n",
    "for i, j in extremidades:\n",
    "    distancia_inferior.append(abs(raiz_correta - i))\n",
    "    distancia_superior.append(abs(j - raiz_correta))\n",
    "\n",
    "\n",
    "fig, ax = plt.subplots(figsize=(8,6))\n",
    "ax.plot(x, comprimento, color=\"black\", label=\"Comprimento do intervalo\")\n",
    "ax.plot(x, distancia_inferior, color=\"red\", linestyle=\"dashdot\", label=\"Distância inferior\")\n",
    "ax.plot(x, distancia_superior, color=\"blue\", linestyle=\"dashdot\", label=\"Distância superior\")\n",
    "ax.set_title(\"\"\"Tamanho dos intervalos em função do número de\n",
    "iterações para a bisseção do cosseno entre 0 e 3\n",
    "(tolerâncias padrão)\"\"\")\n",
    "ax.set_xlabel(\"Número de iterações\")\n",
    "ax.set_ylabel(\"Tamanho dos intervalos\")\n",
    "ax.set_xticks([1]+list(range(5,36,5)))\n",
    "ax.legend()\n",
    "\n",
    "ax = plt.gca()"
   ]
  },
  {
   "cell_type": "code",
   "execution_count": 24,
   "metadata": {
    "deletable": false,
    "editable": false,
    "nbgrader": {
     "cell_type": "code",
     "checksum": "2c1e982bfeb2c292964ab5fe2d6172e6",
     "grade": true,
     "grade_id": "graf2_test1",
     "locked": true,
     "points": 2,
     "schema_version": 3,
     "solution": false,
     "task": false
    }
   },
   "outputs": [],
   "source": [
    "assert len(ax.lines) == 3\n",
    "assert len(ax.get_legend().texts) == 3"
   ]
  },
  {
   "cell_type": "markdown",
   "metadata": {},
   "source": [
    "Repita o gráfico acima para o polinômio $f$ acima, com tolerância `1e-13`, tanto absoluta como relativa."
   ]
  },
  {
   "cell_type": "code",
   "execution_count": 25,
   "metadata": {
    "deletable": false,
    "nbgrader": {
     "cell_type": "code",
     "checksum": "f73a027390798fa8b9d4c9db75b7b117",
     "grade": false,
     "grade_id": "graf3",
     "locked": false,
     "schema_version": 3,
     "solution": true,
     "task": false
    }
   },
   "outputs": [
    {
     "data": {
      "image/png": "[encoded data removed]",
      "text/plain": [
       "<Figure size 800x600 with 1 Axes>"
      ]
     },
     "metadata": {},
     "output_type": "display_data"
    }
   ],
   "source": [
    "extremidades = bissecao_extremidades(np.cos, a, b, 1e-13, 1e-13)\n",
    "\n",
    "x = range(1, len(extremidades)+1)\n",
    "comprimento = [\n",
    "    j - i\n",
    "    for i, j in\n",
    "    extremidades\n",
    "]\n",
    "\n",
    "raiz_correta = (extremidades[-1][0] - extremidades[-1][1]) / 2\n",
    "\n",
    "distancia_inferior = []\n",
    "distancia_superior = []\n",
    "for i, j in extremidades:\n",
    "    distancia_inferior.append(abs(raiz_correta - i))\n",
    "    distancia_superior.append(abs(j - raiz_correta))\n",
    "\n",
    "\n",
    "fig, ax = plt.subplots(figsize=(8,6))\n",
    "ax.plot(x, comprimento, color=\"black\", label=\"Comprimento do intervalo\")\n",
    "ax.plot(x, distancia_inferior, color=\"red\", linestyle=\"dashdot\", label=\"Distância inferior\")\n",
    "ax.plot(x, distancia_superior, color=\"blue\", linestyle=\"dashdot\", label=\"Distância superior\")\n",
    "ax.set_title(\"\"\"Tamanho dos intervalos em função do número de\n",
    "iterações para a bisseção do cosseno entre 0 e 3\n",
    "(tolerâncias em $10^{-13}$)\"\"\")\n",
    "ax.set_xlabel(\"Número de iterações\")\n",
    "ax.set_ylabel(\"Tamanho dos intervalos\")\n",
    "ax.set_xticks([1]+list(range(5,46,5)))\n",
    "ax.legend()\n",
    "\n",
    "ax = plt.gca()"
   ]
  },
  {
   "cell_type": "code",
   "execution_count": 26,
   "metadata": {
    "deletable": false,
    "editable": false,
    "nbgrader": {
     "cell_type": "code",
     "checksum": "4336a649fe2b292ef1363d5275bb41bd",
     "grade": true,
     "grade_id": "graf3_test1",
     "locked": true,
     "points": 1,
     "schema_version": 3,
     "solution": false,
     "task": false
    }
   },
   "outputs": [],
   "source": [
    "assert len(ax.lines) == 3\n",
    "assert len(ax.get_legend().texts) == 3"
   ]
  },
  {
   "cell_type": "code",
   "execution_count": 27,
   "metadata": {
    "deletable": false,
    "editable": false,
    "nbgrader": {
     "cell_type": "code",
     "checksum": "88f9ff2c8f81478bc1ccf8d64e218917",
     "grade": true,
     "grade_id": "graf3_test2",
     "locked": true,
     "points": 1,
     "schema_version": 3,
     "solution": false,
     "task": false
    }
   },
   "outputs": [],
   "source": [
    "for l in ax.lines:\n",
    "    assert 40 <= len(l.get_xdata()) <= 45"
   ]
  },
  {
   "cell_type": "markdown",
   "metadata": {},
   "source": [
    "O que você observa de comum nos gráficos com relação aos erros entre as extremidades dos intervalos?"
   ]
  },
  {
   "cell_type": "markdown",
   "metadata": {
    "deletable": false,
    "nbgrader": {
     "cell_type": "markdown",
     "checksum": "009f68c9ed8b7872e36ee0f8e46df66c",
     "grade": true,
     "grade_id": "graf_analise",
     "locked": false,
     "points": 2,
     "schema_version": 3,
     "solution": true,
     "task": false
    }
   },
   "source": [
    "Como a mudança entre os dados ocorre por apenas por conta das tolerâncias, até a 35ª iteração os dados são iguais."
   ]
  }
 ],
 "metadata": {
  "@webio": {
   "lastCommId": null,
   "lastKernelId": null
  },
  "kernelspec": {
   "display_name": "Python 3.9.12 ('base')",
   "language": "python",
   "name": "python3"
  },
  "language_info": {
   "codemirror_mode": {
    "name": "ipython",
    "version": 3
   },
   "file_extension": ".py",
   "mimetype": "text/x-python",
   "name": "python",
   "nbconvert_exporter": "python",
   "pygments_lexer": "ipython3",
   "version": "3.9.12"
  },
  "toc": {
   "base_numbering": 1,
   "nav_menu": {},
   "number_sections": true,
   "sideBar": true,
   "skip_h1_title": false,
   "title_cell": "Table of Contents",
   "title_sidebar": "Contents",
   "toc_cell": true,
   "toc_position": {},
   "toc_section_display": true,
   "toc_window_display": true
  },
  "vscode": {
   "interpreter": {
    "hash": "c0b21a01164c6e9c7bde45c9ef8308fffa46d3c734d9879332c7c5eda877fc47"
   }
  }
 },
 "nbformat": 4,
 "nbformat_minor": 1
}
